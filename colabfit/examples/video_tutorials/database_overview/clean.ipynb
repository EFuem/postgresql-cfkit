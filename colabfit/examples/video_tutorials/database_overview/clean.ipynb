{
 "cells": [
  {
   "cell_type": "markdown",
   "id": "cd7fd919-699a-4e7b-a48e-02ab1bab682d",
   "metadata": {
    "jp-MarkdownHeadingCollapsed": true,
    "tags": []
   },
   "source": [
    "# Design goals"
   ]
  },
  {
   "cell_type": "markdown",
   "id": "d1319f2e-5fd2-4cdd-9c97-1d9fa133b851",
   "metadata": {},
   "source": [
    "1. Flexible enough to handle different types of data\n",
    "2. Able to quickly identify relationships between datasets\n",
    "3. Avoids data duplication"
   ]
  },
  {
   "cell_type": "markdown",
   "id": "7fb799a7-8b8d-4b2c-b03f-c7f8e8415ce3",
   "metadata": {
    "jp-MarkdownHeadingCollapsed": true,
    "tags": []
   },
   "source": [
    "# Database"
   ]
  },
  {
   "cell_type": "markdown",
   "id": "773f333f-40f5-4369-b30e-5ddcf1669494",
   "metadata": {},
   "source": [
    "* The underlying database\n",
    "* Example: Mongo"
   ]
  },
  {
   "cell_type": "code",
   "execution_count": null,
   "id": "bfe34e93-d961-47a3-9831-6d6e9d8636a5",
   "metadata": {},
   "outputs": [],
   "source": []
  },
  {
   "cell_type": "markdown",
   "id": "0cf886e9-0e58-4a89-afc5-69054c66ca3c",
   "metadata": {
    "jp-MarkdownHeadingCollapsed": true,
    "tags": []
   },
   "source": [
    "# Configurations (CS)"
   ]
  },
  {
   "cell_type": "markdown",
   "id": "22064a00-f8c7-40d4-965d-1f0d740e6c37",
   "metadata": {},
   "source": [
    "* The inputs to a property calculation\n",
    "* Example: atomic positions, cell vectors, PBCs, constraints"
   ]
  },
  {
   "cell_type": "code",
   "execution_count": null,
   "id": "35024ae2-e404-4f29-a493-7ad343ad9a57",
   "metadata": {},
   "outputs": [],
   "source": []
  },
  {
   "cell_type": "code",
   "execution_count": null,
   "id": "c3014ef9-b7f0-4d44-95b0-32a1c0d98583",
   "metadata": {},
   "outputs": [],
   "source": []
  },
  {
   "cell_type": "code",
   "execution_count": null,
   "id": "65577355-ba27-40da-9f46-4ae7d7026c9e",
   "metadata": {},
   "outputs": [],
   "source": []
  },
  {
   "cell_type": "code",
   "execution_count": null,
   "id": "96ce440b-e98f-4f00-a637-a540cf6b9fee",
   "metadata": {},
   "outputs": [],
   "source": []
  },
  {
   "cell_type": "markdown",
   "id": "caed76f8-cd76-43ff-9366-3d8c82aa3bc0",
   "metadata": {
    "jp-MarkdownHeadingCollapsed": true,
    "tags": []
   },
   "source": [
    "# Properties (PR)"
   ]
  },
  {
   "cell_type": "markdown",
   "id": "95bf80fc-b908-4e50-96a1-a2f45407c2f7",
   "metadata": {},
   "source": [
    "* The outputs of a calculation\n",
    "* Must point to at least one Configuration\n",
    "* Should also point to a Property Settings\n",
    "* Usually constructed using `database.insert_data()`\n",
    "* Example: configuration energy, atomic forces"
   ]
  },
  {
   "cell_type": "code",
   "execution_count": null,
   "id": "7d0f6a39-411b-4445-a540-847d48768836",
   "metadata": {},
   "outputs": [],
   "source": []
  },
  {
   "cell_type": "code",
   "execution_count": null,
   "id": "0b4ceb9c-6b84-44f1-9450-72ebbbf2708c",
   "metadata": {},
   "outputs": [],
   "source": []
  },
  {
   "cell_type": "code",
   "execution_count": null,
   "id": "0447d654-87d0-43b5-a867-0b226133214d",
   "metadata": {},
   "outputs": [],
   "source": []
  },
  {
   "cell_type": "code",
   "execution_count": null,
   "id": "788af291-9189-43a4-a20c-eb8929f53da0",
   "metadata": {},
   "outputs": [],
   "source": []
  },
  {
   "cell_type": "code",
   "execution_count": null,
   "id": "a8dd3f6a-0287-4c55-8e54-124b500b2efb",
   "metadata": {},
   "outputs": [],
   "source": []
  },
  {
   "cell_type": "markdown",
   "id": "877548d7-1f21-42ae-8d5f-b8923a45404e",
   "metadata": {
    "jp-MarkdownHeadingCollapsed": true,
    "tags": []
   },
   "source": [
    "# PropertySettings (PS)"
   ]
  },
  {
   "cell_type": "markdown",
   "id": "ebd37ee4-916d-4f96-ba25-94a6054e0ae2",
   "metadata": {},
   "source": [
    "* Additional metadata for setting up a calculation\n",
    "* Example: xc-functional, k-point mesh, full INCAR file"
   ]
  },
  {
   "cell_type": "code",
   "execution_count": null,
   "id": "1743b2b4-56d9-4ec8-906f-6c2a80e7c0b1",
   "metadata": {},
   "outputs": [],
   "source": []
  },
  {
   "cell_type": "code",
   "execution_count": null,
   "id": "b78ee621-b370-4c13-9ab5-4cfd4aaa9623",
   "metadata": {},
   "outputs": [],
   "source": []
  },
  {
   "cell_type": "markdown",
   "id": "925f7a5e-a4db-47ac-8220-ddbcae67d2af",
   "metadata": {
    "jp-MarkdownHeadingCollapsed": true,
    "tags": []
   },
   "source": [
    "# ConfigurationSets (CS)"
   ]
  },
  {
   "cell_type": "markdown",
   "id": "6c567149-946c-4d63-b203-23f2f4fc06c3",
   "metadata": {},
   "source": [
    "* Defines a group of configurations\n",
    "* Aggregates configuration information (e.g., atom counts, labels, chemical systems, ...)\n",
    "* Useful for improving discoverability and interpretablility\n",
    "* Example: \"Snapshots from a molecular dynamics run at 1000K\""
   ]
  },
  {
   "cell_type": "code",
   "execution_count": null,
   "id": "f125ef4a-0b20-4911-b244-26fccbf45ff0",
   "metadata": {},
   "outputs": [],
   "source": []
  },
  {
   "cell_type": "code",
   "execution_count": null,
   "id": "fc3c57ae-03b5-445a-89c3-7716a9423863",
   "metadata": {},
   "outputs": [],
   "source": []
  },
  {
   "cell_type": "markdown",
   "id": "ddb1b1da-5cd9-4d96-8401-375efdfdf5e9",
   "metadata": {
    "jp-MarkdownHeadingCollapsed": true,
    "tags": []
   },
   "source": [
    "# Datasets (DS)"
   ]
  },
  {
   "cell_type": "markdown",
   "id": "c59664d0-977c-4c95-ba11-3e160d3827e4",
   "metadata": {},
   "source": [
    "* A group of computed properties and their associated configurations\n",
    "* Aggregates property and configuration information (e.g., property types, labels, configuration set info, ...)\n",
    "* Example: QM9, Si PRX GAP, user-contributed datasets"
   ]
  },
  {
   "cell_type": "code",
   "execution_count": null,
   "id": "c593b9f8-9422-41db-8970-4122d0c3f780",
   "metadata": {},
   "outputs": [],
   "source": []
  },
  {
   "cell_type": "code",
   "execution_count": null,
   "id": "2a7436d9-03c8-44ea-b192-84c3eba4ddb2",
   "metadata": {},
   "outputs": [],
   "source": []
  },
  {
   "cell_type": "markdown",
   "id": "803631b7-d666-4fd4-9c1c-ac5047bf8e52",
   "metadata": {
    "jp-MarkdownHeadingCollapsed": true,
    "tags": []
   },
   "source": [
    "# Next up:"
   ]
  },
  {
   "cell_type": "markdown",
   "id": "0d6d1f59-c5e0-4c95-8a19-9fc46d529d91",
   "metadata": {},
   "source": [
    "* Building a real dataset and adding it into the database"
   ]
  },
  {
   "cell_type": "code",
   "execution_count": null,
   "id": "038d3f87-661a-44d1-8f94-444b087e7d25",
   "metadata": {},
   "outputs": [],
   "source": []
  }
 ],
 "metadata": {
  "kernelspec": {
   "display_name": "Python 3 (ipykernel)",
   "language": "python",
   "name": "python3"
  },
  "language_info": {
   "codemirror_mode": {
    "name": "ipython",
    "version": 3
   },
   "file_extension": ".py",
   "mimetype": "text/x-python",
   "name": "python",
   "nbconvert_exporter": "python",
   "pygments_lexer": "ipython3",
   "version": "3.8.11"
  }
 },
 "nbformat": 4,
 "nbformat_minor": 5
}
