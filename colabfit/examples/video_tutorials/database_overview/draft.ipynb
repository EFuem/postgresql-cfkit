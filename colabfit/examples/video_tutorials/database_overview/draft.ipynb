{
 "cells": [
  {
   "cell_type": "markdown",
   "id": "b6b40d4e-ce36-4b14-9d10-ce795d79e1a4",
   "metadata": {},
   "source": [
    "# Overview\n",
    "\n",
    "* Flexible enough to handle different types of data\n",
    "* Able to quickly identify relationships between datasets\n",
    "* Avoids data duplication"
   ]
  },
  {
   "cell_type": "markdown",
   "id": "7fb799a7-8b8d-4b2c-b03f-c7f8e8415ce3",
   "metadata": {},
   "source": [
    "# Database\n",
    "\n",
    "* The underlying database\n",
    "* Example: Mongo"
   ]
  },
  {
   "cell_type": "code",
   "execution_count": 2,
   "id": "bfe34e93-d961-47a3-9831-6d6e9d8636a5",
   "metadata": {},
   "outputs": [
    {
     "data": {
      "text/plain": [
       "MongoClient(host=['localhost:27017'], document_class=dict, tz_aware=False, connect=True)"
      ]
     },
     "execution_count": 2,
     "metadata": {},
     "output_type": "execute_result"
    }
   ],
   "source": [
    "from colabfit.tools.database import MongoDatabase\n",
    "\n",
    "database = MongoDatabase('test')\n",
    "database"
   ]
  },
  {
   "cell_type": "markdown",
   "id": "0cf886e9-0e58-4a89-afc5-69054c66ca3c",
   "metadata": {},
   "source": [
    "# Configurations\n",
    "\n",
    "* The inputs to a property calculation\n",
    "* Example: atomic positions, cell vectors, PBCs, constraints"
   ]
  },
  {
   "cell_type": "code",
   "execution_count": 3,
   "id": "35024ae2-e404-4f29-a493-7ad343ad9a57",
   "metadata": {},
   "outputs": [],
   "source": [
    "from colabfit.tools.configuration import Configuration"
   ]
  },
  {
   "cell_type": "code",
   "execution_count": 4,
   "id": "c3014ef9-b7f0-4d44-95b0-32a1c0d98583",
   "metadata": {},
   "outputs": [
    {
     "data": {
      "text/plain": [
       "Configuration(symbols='H2O', pbc=True, cell=[1.0, 1.0, 1.0])"
      ]
     },
     "execution_count": 4,
     "metadata": {},
     "output_type": "execute_result"
    }
   ],
   "source": [
    "import numpy as np\n",
    "\n",
    "atoms = Configuration(symbols='H2O', positions=np.random.random((3, 3)), cell=[[1, 0, 0], [0, 1, 0], [0, 0, 1]], pbc=True)\n",
    "atoms"
   ]
  },
  {
   "cell_type": "code",
   "execution_count": 5,
   "id": "65577355-ba27-40da-9f46-4ae7d7026c9e",
   "metadata": {},
   "outputs": [
    {
     "data": {
      "text/plain": [
       "Configuration(symbols='H2O', pbc=True, cell=[1.0, 1.0, 1.0])"
      ]
     },
     "execution_count": 5,
     "metadata": {},
     "output_type": "execute_result"
    }
   ],
   "source": [
    "from ase import Atoms\n",
    "\n",
    "ase_atoms = Atoms(symbols='H2O', positions=np.random.random((3, 3)), cell=[[1, 0, 0], [0, 1, 0], [0, 0, 1]], pbc=True)\n",
    "\n",
    "colabfit_atoms = Configuration.from_ase(atoms)\n",
    "colabfit_atoms"
   ]
  },
  {
   "cell_type": "code",
   "execution_count": 6,
   "id": "96ce440b-e98f-4f00-a637-a540cf6b9fee",
   "metadata": {},
   "outputs": [
    {
     "data": {
      "text/plain": [
       "[Configuration(symbols='Cu', pbc=True, cell=[1.0, 1.0, 1.0]),\n",
       " Configuration(symbols='Cu2', pbc=True, cell=[1.0, 1.0, 1.0]),\n",
       " Configuration(symbols='Cu3', pbc=True, cell=[1.0, 1.0, 1.0]),\n",
       " Configuration(symbols='Cu4', pbc=True, cell=[1.0, 1.0, 1.0]),\n",
       " Configuration(symbols='Cu5', pbc=True, cell=[1.0, 1.0, 1.0])]"
      ]
     },
     "execution_count": 6,
     "metadata": {},
     "output_type": "execute_result"
    }
   ],
   "source": [
    "configurations = [\n",
    "    Configuration(\n",
    "        symbols=f'Cu{i}',\n",
    "        positions=np.random.random((i, 3)),\n",
    "        cell=[[1, 0, 0], [0, 1, 0], [0, 0, 1]],\n",
    "        pbc=True,\n",
    "    )\n",
    "    for i in range(1, 101)\n",
    "]\n",
    "configurations[:5]"
   ]
  },
  {
   "cell_type": "markdown",
   "id": "caed76f8-cd76-43ff-9366-3d8c82aa3bc0",
   "metadata": {},
   "source": [
    "# Properties\n",
    "\n",
    "* The outputs of a calculation\n",
    "* Must point to at least one Configuration\n",
    "* Should also point to a Property Settings\n",
    "* Usually constructed using `database.insert_data()`\n",
    "* Example: configuration energy, atomic forces"
   ]
  },
  {
   "cell_type": "code",
   "execution_count": 7,
   "id": "7d0f6a39-411b-4445-a540-847d48768836",
   "metadata": {},
   "outputs": [],
   "source": [
    "for atoms in configurations:\n",
    "    atoms.info['energy'] = np.random.random()\n",
    "    atoms.arrays['forces'] = np.random.random((len(atoms), 3))"
   ]
  },
  {
   "cell_type": "code",
   "execution_count": 8,
   "id": "0b4ceb9c-6b84-44f1-9450-72ebbbf2708c",
   "metadata": {},
   "outputs": [],
   "source": [
    "from colabfit.tools.property import Property"
   ]
  },
  {
   "cell_type": "code",
   "execution_count": 9,
   "id": "0447d654-87d0-43b5-a867-0b226133214d",
   "metadata": {},
   "outputs": [],
   "source": [
    "definition = {\n",
    "    \"property-id\": \"energy-forces\",\n",
    "\n",
    "    \"property-title\": \"Basic outputs from a static calculation\",\n",
    "\n",
    "    \"property-description\": \"Supercell energy and atomic forces\",\n",
    "\n",
    "    \"energy\": {\n",
    "        \"type\":         \"float\",\n",
    "        \"has-unit\":     True,\n",
    "        \"extent\":       [],\n",
    "        \"required\":     False,\n",
    "        \"description\":  \"Potential energy of the entire configuration\",\n",
    "    },\n",
    "\n",
    "    \"forces\": {\n",
    "        \"type\":         \"float\",\n",
    "        \"has-unit\":     True,\n",
    "        \"extent\":       [\":\",3],\n",
    "        \"required\":     False,\n",
    "        \"description\":  \"x,y,z force components for each atom\",\n",
    "    }\n",
    "}"
   ]
  },
  {
   "cell_type": "code",
   "execution_count": 10,
   "id": "788af291-9189-43a4-a20c-eb8929f53da0",
   "metadata": {},
   "outputs": [],
   "source": [
    "property_map = {\n",
    "    'energy': {'field': 'energy', 'units': 'eV'},\n",
    "    'forces': {'field': 'forces', 'units': 'eV/Ang'},\n",
    "}"
   ]
  },
  {
   "cell_type": "code",
   "execution_count": 11,
   "id": "a8dd3f6a-0287-4c55-8e54-124b500b2efb",
   "metadata": {},
   "outputs": [
    {
     "data": {
      "text/plain": [
       "Property(instance_id=1, name='energy-forces')"
      ]
     },
     "execution_count": 11,
     "metadata": {},
     "output_type": "execute_result"
    }
   ],
   "source": [
    "Property.from_definition(\n",
    "    'energy-forces',\n",
    "    definition=definition,\n",
    "    configuration=configurations[0],\n",
    "    property_map=property_map\n",
    ")"
   ]
  },
  {
   "cell_type": "markdown",
   "id": "877548d7-1f21-42ae-8d5f-b8923a45404e",
   "metadata": {},
   "source": [
    "# PropertySettings\n",
    "\n",
    "* Additional metadata for setting up a calculation\n",
    "* Example: xc-functional, k-point mesh, full INCAR file"
   ]
  },
  {
   "cell_type": "code",
   "execution_count": 12,
   "id": "1743b2b4-56d9-4ec8-906f-6c2a80e7c0b1",
   "metadata": {},
   "outputs": [],
   "source": [
    "from colabfit.tools.property_settings import PropertySettings"
   ]
  },
  {
   "cell_type": "code",
   "execution_count": 13,
   "id": "b78ee621-b370-4c13-9ab5-4cfd4aaa9623",
   "metadata": {},
   "outputs": [
    {
     "data": {
      "text/plain": [
       "PropertySettings(method='VASP', description='A static VASP calculation', labels={'Monkhorst-Pack', 'GGA', 'PBE'})"
      ]
     },
     "execution_count": 13,
     "metadata": {},
     "output_type": "execute_result"
    }
   ],
   "source": [
    "ps = PropertySettings(\n",
    "    method='VASP',\n",
    "    description='A static VASP calculation',\n",
    "    files=None,  # [/path/to/INCAR]\n",
    "    labels=['PBE', 'GGA', 'Monkhorst-Pack']\n",
    ")\n",
    "ps"
   ]
  },
  {
   "cell_type": "markdown",
   "id": "925f7a5e-a4db-47ac-8220-ddbcae67d2af",
   "metadata": {},
   "source": [
    "# ConfigurationSets\n",
    "\n",
    "* Defines a group of configurations\n",
    "* Aggregates configuration information (e.g., atom counts, labels, chemical systems, ...)\n",
    "* Useful for improving discoverability and interpretablility\n",
    "* Example: \"Snapshots from a molecular dynamics run at 1000K\""
   ]
  },
  {
   "cell_type": "code",
   "execution_count": 14,
   "id": "f125ef4a-0b20-4911-b244-26fccbf45ff0",
   "metadata": {},
   "outputs": [],
   "source": [
    "from colabfit.tools.configuration_set import ConfigurationSet"
   ]
  },
  {
   "cell_type": "code",
   "execution_count": 15,
   "id": "fc3c57ae-03b5-445a-89c3-7716a9423863",
   "metadata": {},
   "outputs": [
    {
     "data": {
      "text/plain": [
       "ConfigurationSet(description='Randomly-generated Cu clusters', nconfigurations=100)"
      ]
     },
     "execution_count": 15,
     "metadata": {},
     "output_type": "execute_result"
    }
   ],
   "source": [
    "cs = ConfigurationSet(\n",
    "    configuration_ids=[str(i) for i in range(len(configurations))],  # come from `database.insert_data()`\n",
    "    description='Randomly-generated Cu clusters',\n",
    "    aggregated_info=None,  # comes from `database.aggregate_configuration_info()`\n",
    ")\n",
    "cs"
   ]
  },
  {
   "cell_type": "markdown",
   "id": "ddb1b1da-5cd9-4d96-8401-375efdfdf5e9",
   "metadata": {},
   "source": [
    "# Datasets\n",
    "\n",
    "* A group of computed properties and their associated configurations\n",
    "* Aggregates property and configuration information (e.g., property types, labels, configuration set info, ...)\n",
    "* Example: QM9, Si PRX GAP, user-contributed datasets"
   ]
  },
  {
   "cell_type": "code",
   "execution_count": 16,
   "id": "c593b9f8-9422-41db-8970-4122d0c3f780",
   "metadata": {},
   "outputs": [],
   "source": [
    "from colabfit.tools.dataset import Dataset"
   ]
  },
  {
   "cell_type": "code",
   "execution_count": 17,
   "id": "2a7436d9-03c8-44ea-b192-84c3eba4ddb2",
   "metadata": {},
   "outputs": [
    {
     "data": {
      "text/plain": [
       "Dataset(description='An example dataset', nconfiguration_sets=1, nproperties=100)"
      ]
     },
     "execution_count": 17,
     "metadata": {},
     "output_type": "execute_result"
    }
   ],
   "source": [
    "ds = Dataset(\n",
    "    configuration_set_ids=[1],  # from `database.insert_configuration_set()`\n",
    "    property_ids=[str(i) for i in range(len(configurations))],  # from `database.insert_data()`\n",
    "    name='example',\n",
    "    authors=['colabfit'],\n",
    "    links=['https://colabfit.org'],\n",
    "    description='An example dataset',\n",
    "    aggregated_info=None,  # from `database.aggregate_configuration_set_info()` and `database.aggregate_property_info()`\n",
    ")\n",
    "ds"
   ]
  },
  {
   "cell_type": "markdown",
   "id": "803631b7-d666-4fd4-9c1c-ac5047bf8e52",
   "metadata": {},
   "source": [
    "# Next up:\n",
    "\n",
    "* Building a real dataset and adding it into the database"
   ]
  },
  {
   "cell_type": "code",
   "execution_count": null,
   "id": "038d3f87-661a-44d1-8f94-444b087e7d25",
   "metadata": {},
   "outputs": [],
   "source": []
  }
 ],
 "metadata": {
  "kernelspec": {
   "display_name": "Python 3 (ipykernel)",
   "language": "python",
   "name": "python3"
  },
  "language_info": {
   "codemirror_mode": {
    "name": "ipython",
    "version": 3
   },
   "file_extension": ".py",
   "mimetype": "text/x-python",
   "name": "python",
   "nbconvert_exporter": "python",
   "pygments_lexer": "ipython3",
   "version": "3.8.11"
  }
 },
 "nbformat": 4,
 "nbformat_minor": 5
}
