{
 "cells": [
  {
   "cell_type": "markdown",
   "id": "baba72ed-d723-468c-abbd-b794bea88a97",
   "metadata": {
    "jp-MarkdownHeadingCollapsed": true,
    "tags": []
   },
   "source": [
    "# Docker setup"
   ]
  },
  {
   "cell_type": "markdown",
   "id": "5390dc05-b8e1-4746-8101-3bc46932208f",
   "metadata": {},
   "source": [
    "Write a Dockerfile for setting up the Docker image\n",
    "\n",
    "```dockerfile\n",
    "# Contents of 'colabfit/examples/Dockerfile'\n",
    "FROM ubuntu:20.04\n",
    "\n",
    "RUN apt-get update\n",
    "RUN apt-get install -y sudo\n",
    "RUN apt-get install -y python3\n",
    "RUN apt-get install -y python3-pip\n",
    "RUN apt-get install -y git\n",
    "RUN apt-get install -y wget\n",
    "RUN apt-get install systemctl\n",
    "```\n",
    "\n",
    "Build the image\n",
    "```bash\n",
    "sudo docker pull ubuntu:20.04\n",
    "sudo docker build -t colabfit - < Dockerfile\n",
    "```\n",
    "\n",
    "Open a terminal inside of a Docker container using the image\n",
    "```bash\n",
    "sudo docker run -t -i --entrypoint bash colabfit\n",
    "```"
   ]
  },
  {
   "cell_type": "code",
   "execution_count": null,
   "id": "8a10e23b-f68c-4978-89b7-3654c83b75a9",
   "metadata": {},
   "outputs": [],
   "source": []
  }
 ],
 "metadata": {
  "kernelspec": {
   "display_name": "Python 3 (ipykernel)",
   "language": "python",
   "name": "python3"
  },
  "language_info": {
   "codemirror_mode": {
    "name": "ipython",
    "version": 3
   },
   "file_extension": ".py",
   "mimetype": "text/x-python",
   "name": "python",
   "nbconvert_exporter": "python",
   "pygments_lexer": "ipython3",
   "version": "3.8.11"
  }
 },
 "nbformat": 4,
 "nbformat_minor": 5
}
