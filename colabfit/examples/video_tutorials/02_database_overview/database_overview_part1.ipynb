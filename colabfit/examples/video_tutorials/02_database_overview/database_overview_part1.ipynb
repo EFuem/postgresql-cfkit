{
 "cells": [
  {
   "cell_type": "markdown",
   "id": "cd7fd919-699a-4e7b-a48e-02ab1bab682d",
   "metadata": {
    "tags": []
   },
   "source": [
    "# Design goals"
   ]
  },
  {
   "cell_type": "markdown",
   "id": "d1319f2e-5fd2-4cdd-9c97-1d9fa133b851",
   "metadata": {},
   "source": [
    "1. Able to handle different types of data\n",
    "    * Components defined in a generic and flexible way\n",
    "2. Preserve relationships between datasets, and avoid data duplication\n",
    "    * Components hashed to produce unique IDs\n",
    "3. Promote construction of organized datasets\n",
    "    * Components allow users to group information in useful and meaningful ways"
   ]
  },
  {
   "cell_type": "markdown",
   "id": "7fb799a7-8b8d-4b2c-b03f-c7f8e8415ce3",
   "metadata": {
    "tags": []
   },
   "source": [
    "# Database"
   ]
  },
  {
   "cell_type": "markdown",
   "id": "773f333f-40f5-4369-b30e-5ddcf1669494",
   "metadata": {},
   "source": [
    "* **Definition:** the backend tool that supports data I/O and querying.\n",
    "* **Example:** Mongo database on local machine"
   ]
  },
  {
   "cell_type": "markdown",
   "id": "0cf886e9-0e58-4a89-afc5-69054c66ca3c",
   "metadata": {
    "tags": []
   },
   "source": [
    "# Configuration (CO)"
   ]
  },
  {
   "cell_type": "markdown",
   "id": "22064a00-f8c7-40d4-965d-1f0d740e6c37",
   "metadata": {},
   "source": [
    "* **Definition:** the inputs to a calculation of a material property\n",
    "* **Example:** atomic types/positions, cell vectors, PBCs, constraints\n",
    "* **Additional information:** user-provided names/labels, chemical formula, element concentrations, ..."
   ]
  },
  {
   "cell_type": "markdown",
   "id": "caed76f8-cd76-43ff-9366-3d8c82aa3bc0",
   "metadata": {
    "tags": []
   },
   "source": [
    "# Property Instance (PI)"
   ]
  },
  {
   "cell_type": "markdown",
   "id": "95bf80fc-b908-4e50-96a1-a2f45407c2f7",
   "metadata": {},
   "source": [
    "* **Definition:** the outputs of a calculation; a computed material property\n",
    "* **Example:** configuration energy, atomic forces\n",
    "* **Additional information:** units, pointers to configurations/definitions/settings"
   ]
  },
  {
   "cell_type": "markdown",
   "id": "f01e3465-a88e-40f5-9d9e-72b0cc325979",
   "metadata": {
    "tags": []
   },
   "source": [
    "# Property Definition (PD)"
   ]
  },
  {
   "cell_type": "markdown",
   "id": "3576a514-5f37-4afc-82a4-7d8e7cb7caa0",
   "metadata": {},
   "source": [
    "* **Definition:**  explanation of the contents of a property\n",
    "* **Example:** property name, data types/shapes, human-readable descriptions of fields"
   ]
  },
  {
   "cell_type": "markdown",
   "id": "877548d7-1f21-42ae-8d5f-b8923a45404e",
   "metadata": {
    "tags": []
   },
   "source": [
    "# PropertySettings (PS)"
   ]
  },
  {
   "cell_type": "markdown",
   "id": "ebd37ee4-916d-4f96-ba25-94a6054e0ae2",
   "metadata": {},
   "source": [
    "* **Definition:** additional metadata for setting up a calculation\n",
    "* **Example:** software package/version, xc-functional, k-point mesh, full input file(s)"
   ]
  },
  {
   "cell_type": "markdown",
   "id": "925f7a5e-a4db-47ac-8220-ddbcae67d2af",
   "metadata": {
    "tags": []
   },
   "source": [
    "# ConfigurationSet (CS)"
   ]
  },
  {
   "cell_type": "markdown",
   "id": "6c567149-946c-4d63-b203-23f2f4fc06c3",
   "metadata": {},
   "source": [
    "* **Definition:** a group of configurations\n",
    "* **Example:** \"Snapshots from a molecular dynamics run at 1000K\"\n",
    "* **Additional information:**\n",
    "    * Aggregates configuration information (e.g., atom counts, labels, chemical systems, ...)\n",
    "    * Useful for improving discoverability and interpretablility"
   ]
  },
  {
   "cell_type": "markdown",
   "id": "ddb1b1da-5cd9-4d96-8401-375efdfdf5e9",
   "metadata": {
    "tags": []
   },
   "source": [
    "# Dataset (DS)"
   ]
  },
  {
   "cell_type": "markdown",
   "id": "c59664d0-977c-4c95-ba11-3e160d3827e4",
   "metadata": {},
   "source": [
    "* **Definition:** a group of computed properties and their associated configurations\n",
    "* **Example:** QM9, Si PRX GAP, user-contributed datasets\n",
    "* **Additional information:**\n",
    "    * Aggregates property and configuration information (e.g., property types, labels, configuration set info, ...)\n",
    "    * Pointers to CSs (instead of COs) to help keep data organized"
   ]
  },
  {
   "cell_type": "code",
   "execution_count": null,
   "id": "bb743099-85e8-49bc-8e5c-2cff0e88f851",
   "metadata": {},
   "outputs": [],
   "source": []
  }
 ],
 "metadata": {
  "kernelspec": {
   "display_name": "Python 3 (ipykernel)",
   "language": "python",
   "name": "python3"
  },
  "language_info": {
   "codemirror_mode": {
    "name": "ipython",
    "version": 3
   },
   "file_extension": ".py",
   "mimetype": "text/x-python",
   "name": "python",
   "nbconvert_exporter": "python",
   "pygments_lexer": "ipython3",
   "version": "3.8.11"
  }
 },
 "nbformat": 4,
 "nbformat_minor": 5
}
