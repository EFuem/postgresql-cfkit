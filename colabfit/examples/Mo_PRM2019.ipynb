{
 "cells": [
  {
   "cell_type": "code",
   "execution_count": null,
   "id": "684e98a0",
   "metadata": {},
   "outputs": [],
   "source": [
    "from colabfit.tools.database import MongoDatabase, load_data\n",
    "from colabfit.tools.property_settings import PropertySettings\n",
    "\n",
<<<<<<< HEAD
<<<<<<< HEAD
    "client = MongoDatabase('colabfit_database', nprocs=6)"
=======
    "client = MongoDatabase('test', nprocs=1, drop_database=True)"
>>>>>>> a36a6b69ee420948c36e804cdf0331ac810ac3e3
=======
    "client = MongoDatabase('test', nprocs=1, drop_database=True)"
>>>>>>> a36a6b69ee420948c36e804cdf0331ac810ac3e3
   ]
  },
  {
   "cell_type": "code",
   "execution_count": null,
   "id": "46662706",
   "metadata": {},
   "outputs": [],
   "source": [
    "name = 'Mo_PRM2019'\n",
    "\n",
    "configurations = list(load_data(\n",
    "    file_path='/home/jvita/scripts/colabfit/data/acclab_helsinki/Mo/training-data/db_Mo.xyz',\n",
    "    file_format='xyz',\n",
    "    name_field='config_type',\n",
    "    elements=['Mo'],\n",
    "    default_name=name,\n",
    "    verbose=True,\n",
    "))"
   ]
  },
  {
   "cell_type": "code",
   "execution_count": null,
   "id": "948beee7",
   "metadata": {},
   "outputs": [],
   "source": [
    "client.insert_property_definition({\n",
    "    'property-id': 'energy-forces-stress',\n",
    "    'property-title': 'A default property for storing energies, forces, and stress',\n",
    "    'property-description': 'Energies and forces computed using DFT',\n",
    "\n",
<<<<<<< HEAD
<<<<<<< HEAD
    "    'energy': {'type': 'float', 'has-unit': True, 'extent': [],      'required': False, 'description': 'Potential energy'},\n",
=======
    "    'energy': {'type': 'float', 'has-unit': True, 'extent': [],      'required': False, 'description': 'Cohesive energy'},\n",
>>>>>>> a36a6b69ee420948c36e804cdf0331ac810ac3e3
=======
    "    'energy': {'type': 'float', 'has-unit': True, 'extent': [],      'required': False, 'description': 'Cohesive energy'},\n",
>>>>>>> a36a6b69ee420948c36e804cdf0331ac810ac3e3
    "    'forces': {'type': 'float', 'has-unit': True, 'extent': [':',3], 'required': False, 'description': 'Atomic forces'},\n",
    "    'stress': {'type': 'float', 'has-unit': True, 'extent': [':',3], 'required': False, 'description': 'Stress'},\n",
    "})"
   ]
  },
  {
   "cell_type": "code",
   "execution_count": null,
   "id": "95355da9",
   "metadata": {},
   "outputs": [],
   "source": [
    "property_map = {\n",
    "    'energy-forces-stress': {\n",
    "        # ColabFit name: {'field': ASE field name, 'units': str}\n",
    "        'energy': {'field': 'energy', 'units': 'eV'},\n",
    "        'forces': {'field': 'force', 'units': 'eV/Ang'},\n",
    "        'stress': {'field': 'virial', 'units': 'GPa'},\n",
    "    }\n",
    "}"
   ]
  },
  {
   "cell_type": "code",
   "execution_count": null,
   "id": "ce7b592f",
   "metadata": {},
   "outputs": [],
   "source": [
    "pso = PropertySettings(\n",
    "    method='VASP',\n",
    "    description='energies/forces/stresses',\n",
    "    files=None,\n",
    "    labels=['PBE', 'GGA'],\n",
    ")"
   ]
  },
  {
   "cell_type": "code",
   "execution_count": null,
   "id": "0376a16f",
   "metadata": {},
   "outputs": [],
   "source": [
    "ids = list(client.insert_data(\n",
    "    configurations,\n",
    "    property_map=property_map,\n",
    "    property_settings={'energy-forces-stress': pso},\n",
    "    generator=False,\n",
    "    verbose=True\n",
    "))\n",
    "\n",
    "all_co_ids, all_pr_ids = list(zip(*ids))"
   ]
  },
  {
   "cell_type": "code",
   "execution_count": null,
   "id": "4e23bcd9",
   "metadata": {},
   "outputs": [],
   "source": [
    "len(set(all_co_ids))"
   ]
  },
  {
   "cell_type": "code",
   "execution_count": null,
   "id": "77d5c75b",
   "metadata": {},
   "outputs": [],
   "source": [
    "len(set(all_pr_ids))"
   ]
  },
  {
   "cell_type": "code",
   "execution_count": null,
   "id": "a46ef09c",
   "metadata": {},
   "outputs": [],
   "source": [
    "configuration_set_regexes = {\n",
    "    '.*':\n",
    "        'Configurations designed to ensure machine-learning of elastic, '\\\n",
    "        'thermal, and defect properties, as well as surface energetics, '\\\n",
    "        'melting, and the structure of the liquid phase.',\n",
    "    '^liquid':\n",
    "        'Liquid with densities around the experimental density of 17.6 g/cm^3',\n",
    "    '^sia':\n",
    "        'Configurations with single self-interstitial defects',\n",
    "    '^vacancy':\n",
    "        'Single-vacancy configurations',\n",
    "    'A15':\n",
    "        'A15 configurations with random lattice distortions',\n",
    "    'bcc_distorted':\n",
    "        'BCC configurations with random strains up to +/- 30% to help train '\\\n",
    "        'the far-from-equilibrium elastic response',\n",
    "    'C15':\n",
    "        'C15 configurations with random lattice distortions',\n",
    "    'di-sia':\n",
    "        'Configurations with two self-interstitial defects',\n",
    "    'di-vacancy':\n",
    "        'Divacancy configurations',\n",
    "    'dia':\n",
    "        'Diamond configurations with random lattice distortions',\n",
    "    'dimer':\n",
    "        'Dimers to fit to the full dissociation curve starting from 1.1 '\\\n",
    "        'angstrom',\n",
    "    'fcc':\n",
    "        'FCC crystals with random lattice distortions',\n",
    "    'gamma_surface':\n",
    "        'Configurations representing the full gamma surface',\n",
    "    'hcp':\n",
    "        'HCP configurations with random lattice distortions',\n",
    "    'isolated_atom':\n",
    "        'Isolated W atom',\n",
    "    'phonon':\n",
    "        'MD snapshots taken at 1000K for three different volumes',\n",
    "    'sc':\n",
    "        'Simple cubic crystals with random lattice distortions',\n",
    "    'short_range':\n",
    "        'BCC crystals with random interstitial atom defects to capture '\\\n",
    "        'short-range many-body dynamics',\n",
    "    'slice_sample':\n",
    "        \"Randomly distorted primitive bcc unit cells drawn from Szlachta et \"\\\n",
    "        \"al.'s database\",\n",
    "    'surf_liquid':\n",
    "        'Damaged and half-molten (110) and (100) surfaces',\n",
    "    'surface_100':\n",
    "        'Configurations with single self-interstitial defects',\n",
    "    'surface_110':\n",
    "        '(110) surface configurations',\n",
    "    'surface_111':\n",
    "        '(111) surface configurations',\n",
    "    'surface_112':\n",
    "        '(112) surface configurations',\n",
    "    'tri-vacancy':\n",
    "        'Trivacancy configurations',\n",
    "}\n",
    "\n",
    "cs_ids = []\n",
    "\n",
    "for i, (regex, desc) in enumerate(configuration_set_regexes.items()):\n",
    "    co_ids = client.get_data(\n",
    "        'configurations',\n",
    "        fields='_id',\n",
    "        query={'_id': {'$in': all_co_ids}, 'names': {'$regex': regex}},\n",
    "        ravel=True\n",
    "    ).tolist()\n",
    "\n",
    "    print(f'Configuration set {i}', f'({regex}):'.rjust(22), f'{len(co_ids)}'.rjust(7))\n",
    "\n",
    "    cs_id = client.insert_configuration_set(co_ids, description=desc, verbose=True)\n",
    "\n",
    "    cs_ids.append(cs_id)"
   ]
  },
  {
   "cell_type": "code",
   "execution_count": null,
   "id": "2245fc3c",
   "metadata": {},
   "outputs": [],
   "source": [
    "ds_id = client.insert_dataset(\n",
    "    cs_ids=cs_ids,\n",
    "    pr_ids=all_pr_ids,\n",
    "    name='Mo_PRM2019',\n",
    "    authors=[\n",
    "        'J. Byggmästar', 'K. Nordlund', 'F. Djurabekova',\n",
    "    ],\n",
    "    links=[\n",
    "        'https://journals.aps.org/prmaterials/abstract/10.1103/PhysRevMaterials.4.093802',\n",
    "        'https://gitlab.com/acclab/gap-data/-/tree/master/Mo'\n",
    "    ],\n",
    "    description='This dataset was designed to ensure machine-learning '\\\n",
    "    'of Mo elastic, thermal, and defect properties, as well as surface '\\\n",
    "    'energetics, melting, and the structure of the liquid phase. The dataset '\\\n",
    "    'was constructed by starting with the dataset from J. Byggmästar et al., '\\\n",
    "    'Phys. Rev. B 100, 144105 (2019), then rescaling all of the '\\\n",
    "    'configurations to the correct lattice spacing and adding in gamma '\\\n",
    "    'surface configurations.',\n",
    "    resync=True,\n",
    "    verbose=True,\n",
    ")"
   ]
  },
  {
   "cell_type": "code",
   "execution_count": null,
   "id": "10628ff7",
   "metadata": {},
   "outputs": [],
   "source": [
    "configuration_label_regexes = {\n",
    "    'A15':\n",
    "        ['a15', 'strain'],\n",
    "    'bcc_distorted':\n",
    "        ['bcc', 'strain'],\n",
    "    'C15':\n",
    "        ['c15', 'strain'],\n",
    "    'di-sia':\n",
    "        'interstitial',\n",
    "    'di-vacancy':\n",
    "        ['vacancy', 'divacancy'],\n",
    "    'dia':\n",
    "        ['diamond', 'strain'],\n",
    "    'dimer':\n",
    "        ['dimer', 'warning', 'large_forces', 'repulsive'],\n",
    "    'fcc':\n",
    "        ['fcc', 'strain'],\n",
    "    'gamma_surface':\n",
    "        'gamma_surface',\n",
    "    'hcp':\n",
    "        'hcp',\n",
    "    'isolated_atom':\n",
    "        'isolated_atom',\n",
    "    'liquid':\n",
    "        'liquid',\n",
    "    'phonon':\n",
    "        'aimd',\n",
    "    'sc':\n",
    "        ['sc', 'strain'],\n",
    "    'short_range':\n",
    "        ['bcc', 'interstitial', 'warning', 'large_forces', 'repulsive'],\n",
    "    'sia':\n",
    "        'interstitial',\n",
    "    'slice_sample':\n",
    "        ['bcc', 'strain'],\n",
    "    'surf_liquid':\n",
    "        'surface',\n",
    "    'surface':\n",
    "        'surface',\n",
    "    'tri-vacancy':\n",
    "        ['vacancy', 'divacancy', 'trivacancy'],\n",
    "    'vacancy':\n",
    "        'vacancy',\n",
    "}\n",
    "\n",
    "for regex, labels in configuration_label_regexes.items():\n",
    "    client.apply_labels(\n",
    "        dataset_id=ds_id,\n",
    "        collection_name='configurations',\n",
    "        query={'_id': {'$in': all_co_ids}, 'names': {'$regex': regex}},\n",
    "        labels=labels,\n",
    "        verbose=True\n",
    "    )"
   ]
  },
  {
   "cell_type": "code",
   "execution_count": null,
   "id": "3e1bd8ea",
   "metadata": {},
   "outputs": [],
   "source": [
    "dataset = client.get_dataset(ds_id, resync=True, verbose=True)['dataset']\n",
    "\n",
    "for k,v in dataset.aggregated_info.items():\n",
    "    print(k,v)"
   ]
  },
  {
   "cell_type": "code",
   "execution_count": null,
   "id": "c72faac1",
   "metadata": {},
   "outputs": [],
   "source": [
    "dataset.aggregated_info['property_fields']"
   ]
  },
  {
   "cell_type": "code",
   "execution_count": null,
   "id": "daa9e726",
   "metadata": {},
   "outputs": [],
   "source": [
    "client.plot_histograms(dataset.aggregated_info['property_fields'], ids=dataset.property_ids, yscale='log')"
   ]
  },
  {
<<<<<<< HEAD
<<<<<<< HEAD
   "cell_type": "raw",
   "id": "a070862e",
   "metadata": {},
=======
=======
>>>>>>> a36a6b69ee420948c36e804cdf0331ac810ac3e3
   "cell_type": "code",
   "execution_count": null,
   "id": "83cbb3a2",
   "metadata": {},
   "outputs": [],
<<<<<<< HEAD
>>>>>>> a36a6b69ee420948c36e804cdf0331ac810ac3e3
=======
>>>>>>> a36a6b69ee420948c36e804cdf0331ac810ac3e3
   "source": [
    "# Convert to per-atom energies\n",
    "import numpy as np\n",
    "\n",
    "res = client.apply_transformation(\n",
    "    dataset_id=ds_id,\n",
    "    property_ids=all_pr_ids,\n",
    "    update_map={\n",
    "        'energy-forces-stress.energy':\n",
    "        lambda f, doc: f/doc['configuration']['nsites']\n",
    "    },\n",
    "    configuration_ids=all_co_ids,\n",
    ")"
   ]
  },
  {
<<<<<<< HEAD
<<<<<<< HEAD
   "cell_type": "raw",
   "id": "1f14769c",
   "metadata": {},
=======
=======
>>>>>>> a36a6b69ee420948c36e804cdf0331ac810ac3e3
   "cell_type": "code",
   "execution_count": null,
   "id": "4520239c",
   "metadata": {},
   "outputs": [],
<<<<<<< HEAD
>>>>>>> a36a6b69ee420948c36e804cdf0331ac810ac3e3
=======
>>>>>>> a36a6b69ee420948c36e804cdf0331ac810ac3e3
   "source": [
    "# Convert from QUIP energies to VASP stresses\n",
    "import numpy as np\n",
    "\n",
    "res = client.apply_transformation(\n",
    "    dataset_id=ds_id,\n",
    "    property_ids=all_pr_ids,\n",
    "    update_map={\n",
    "        'energy-forces-stress.stress':\n",
    "        lambda f, doc: (f/np.abs(np.linalg.det(doc['configuration']['cell'])))*-160.21766208\n",
    "    },\n",
    "    configuration_ids=all_co_ids,\n",
    ")"
   ]
  },
  {
<<<<<<< HEAD
<<<<<<< HEAD
   "cell_type": "raw",
   "id": "7960c442",
   "metadata": {},
=======
=======
>>>>>>> a36a6b69ee420948c36e804cdf0331ac810ac3e3
   "cell_type": "code",
   "execution_count": null,
   "id": "323bd521",
   "metadata": {},
   "outputs": [],
<<<<<<< HEAD
>>>>>>> a36a6b69ee420948c36e804cdf0331ac810ac3e3
=======
>>>>>>> a36a6b69ee420948c36e804cdf0331ac810ac3e3
   "source": [
    "client.plot_histograms(dataset.aggregated_info['property_fields'], ids=dataset.property_ids, yscale='log')"
   ]
  },
  {
   "cell_type": "code",
   "execution_count": null,
   "id": "9386c96b",
   "metadata": {},
   "outputs": [],
   "source": []
  }
 ],
 "metadata": {
  "kernelspec": {
   "display_name": "Python 3 (ipykernel)",
   "language": "python",
   "name": "python3"
  },
  "language_info": {
   "codemirror_mode": {
    "name": "ipython",
    "version": 3
   },
   "file_extension": ".py",
   "mimetype": "text/x-python",
   "name": "python",
   "nbconvert_exporter": "python",
   "pygments_lexer": "ipython3",
   "version": "3.8.11"
  }
 },
 "nbformat": 4,
 "nbformat_minor": 5
}
