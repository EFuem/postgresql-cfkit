{
 "cells": [
  {
   "cell_type": "code",
   "execution_count": null,
   "id": "8e6cab58",
   "metadata": {},
   "outputs": [],
   "source": [
    "from colabfit.tools.database import MongoDatabase, load_data\n",
    "from colabfit.tools.property_settings import PropertySettings\n",
    "\n",
    "client = MongoDatabase('colabfit_database', nprocs=1)"
   ]
  },
  {
   "cell_type": "code",
   "execution_count": null,
   "id": "4f48389e",
   "metadata": {},
   "outputs": [],
   "source": [
    "client.insert_property_definition('tag:staff@noreply.openkim.org,2014-04-15:property/bulk-modulus-isothermal-cubic-crystal-npt')"
   ]
  },
  {
   "cell_type": "code",
   "execution_count": null,
   "id": "c349a2d0",
   "metadata": {},
   "outputs": [],
   "source": [
    "client.configurations.distinct('elements', {})"
   ]
  },
  {
   "cell_type": "code",
   "execution_count": null,
   "id": "59c69223",
   "metadata": {},
   "outputs": [],
   "source": [
    "client.configurations.distinct('labels', {'nsites': {'$lt': 10}})"
   ]
  },
  {
   "cell_type": "markdown",
   "id": "dbf66951",
   "metadata": {},
   "source": [
    "# Verifying dataset correctness"
   ]
  },
  {
   "cell_type": "code",
   "execution_count": null,
   "id": "0249f1d2",
   "metadata": {},
   "outputs": [],
   "source": [
    "client.datasets.distinct('name')"
   ]
  },
  {
   "cell_type": "code",
   "execution_count": null,
   "id": "195c68c7",
   "metadata": {},
   "outputs": [],
   "source": [
    "ds_id = client.datasets.find_one({'name': 'Mo_PRM2019'})['_id']\n",
    "dataset = client.get_dataset(ds_id)['dataset']\n",
    "dataset.name, ds_id"
   ]
  },
  {
   "cell_type": "code",
   "execution_count": null,
   "id": "55fa5fd0",
   "metadata": {},
   "outputs": [],
   "source": [
    "client.dataset_to_markdown(\n",
    "    ds_id=ds_id,\n",
    "    base_folder='/tmp',\n",
    "    html_file_name='README',\n",
    "    data_file_name=dataset.name+'.xyz',\n",
    "    data_format='mongo',\n",
    "    yscale='log'\n",
    ")"
   ]
  },
  {
   "cell_type": "code",
   "execution_count": null,
   "id": "432f5c65",
   "metadata": {},
   "outputs": [],
   "source": [
    "dataset = client.dataset_from_markdown(\n",
    "    html_file_path='/tmp/README',\n",
    "    verbose=True\n",
    ")"
   ]
  },
  {
   "cell_type": "code",
   "execution_count": null,
   "id": "580605ed",
   "metadata": {},
   "outputs": [],
   "source": [
    "dataset['dataset'].name"
   ]
  },
  {
   "cell_type": "code",
   "execution_count": null,
   "id": "d2fc6882",
   "metadata": {},
   "outputs": [],
   "source": [
    "client.dataset_to_markdown(\n",
    "    ds_id=dataset['_id'],\n",
    "    base_folder='/tmp',\n",
    "    html_file_name='README-2',\n",
    "    data_file_name=dataset['dataset'].name+'-2.xyz',\n",
    "    data_format='mongo',\n",
    "    yscale='log'\n",
    ")"
   ]
  },
  {
   "cell_type": "code",
   "execution_count": null,
   "id": "9dc3db12",
   "metadata": {},
   "outputs": [],
   "source": [
    "client.plot_histograms(dataset.aggregated_info['property_fields'], ids=dataset.property_ids)"
   ]
  },
  {
   "cell_type": "markdown",
   "id": "48282525",
   "metadata": {},
   "source": [
    "# Number of configurations"
   ]
  },
  {
   "cell_type": "code",
   "execution_count": null,
   "id": "9dc97f27",
   "metadata": {},
   "outputs": [],
   "source": [
    "client.configurations.count_documents({})"
   ]
  },
  {
   "cell_type": "markdown",
   "id": "d0b730de",
   "metadata": {},
   "source": [
    "# Number of properties"
   ]
  },
  {
   "cell_type": "code",
   "execution_count": null,
   "id": "7fc659fa",
   "metadata": {},
   "outputs": [],
   "source": [
    "client.properties.count_documents({})"
   ]
  },
  {
   "cell_type": "markdown",
   "id": "6e90f8f2",
   "metadata": {},
   "source": [
    "# Number of datasets"
   ]
  },
  {
   "cell_type": "code",
   "execution_count": null,
   "id": "e7617f40",
   "metadata": {},
   "outputs": [],
   "source": [
    "client.datasets.count_documents({})"
   ]
  },
  {
   "cell_type": "markdown",
   "id": "f40d9baa",
   "metadata": {},
   "source": [
    "# Get configurations"
   ]
  },
  {
   "cell_type": "code",
   "execution_count": null,
   "id": "584267f2",
   "metadata": {},
   "outputs": [],
   "source": [
    "configs = client.get_configurations('all', attach_properties=True, generator=False)\n",
    "configs[0]"
   ]
  },
  {
   "cell_type": "code",
   "execution_count": null,
   "id": "533c4d5f",
   "metadata": {},
   "outputs": [],
   "source": [
    "configs[0].info"
   ]
  },
  {
   "cell_type": "code",
   "execution_count": null,
   "id": "e8f21704",
   "metadata": {},
   "outputs": [],
   "source": [
    "\"\"\"\n",
    "Get all Configurations\n",
    "\n",
    "Get all properties that have a CO ID that's in the query\n",
    "\"\"\"\n",
    "\n",
    "cursor = client.properties.aggregate([\n",
    "    {'$unwind': '$relationships.configurations'},\n",
    "#     {'$match': {'relationships.configurations': {'$in': ids}}},\n",
    "    {'$lookup': {\n",
    "        'from': 'configurations',\n",
    "        'localField': 'relationships.configurations',\n",
    "        'foreignField': '_id',\n",
    "        'as': 'linked_co'\n",
    "    }}\n",
    "])\n",
    "\n",
    "next(cursor)"
   ]
  },
  {
   "cell_type": "code",
   "execution_count": null,
   "id": "1d623404",
   "metadata": {},
   "outputs": [],
   "source": [
    "len(list(cursor))"
   ]
  },
  {
   "cell_type": "markdown",
   "id": "ba064aa1",
   "metadata": {},
   "source": [
    "## Names of datasets"
   ]
  },
  {
   "cell_type": "code",
   "execution_count": null,
   "id": "ac9074a8",
   "metadata": {},
   "outputs": [],
   "source": [
    "sorted(list(client.datasets.find({}, {'name'})), key=lambda x: x['name'].lower())"
   ]
  },
  {
   "cell_type": "markdown",
   "id": "d73f0981",
   "metadata": {},
   "source": [
    "# Number of configuration sets"
   ]
  },
  {
   "cell_type": "code",
   "execution_count": null,
   "id": "e673ee77",
   "metadata": {},
   "outputs": [],
   "source": [
    "client.configuration_sets.count_documents({})"
   ]
  },
  {
   "cell_type": "markdown",
   "id": "8697b574",
   "metadata": {},
   "source": [
    "## All configuration sets, and their linked datasets"
   ]
  },
  {
   "cell_type": "code",
   "execution_count": null,
   "id": "34569b5d",
   "metadata": {
    "scrolled": true
   },
   "outputs": [],
   "source": [
    "cursor = client.configuration_sets.aggregate([\n",
    "    {'$project': {'relationships.datasets': 1}},\n",
    "    {'$unwind': '$relationships.datasets'},\n",
    "    {'$project': {'ds_id': '$relationships.datasets'}},\n",
    "    {'$lookup': {\n",
    "        'from': 'datasets',\n",
    "        'localField': 'ds_id',\n",
    "        'foreignField': '_id',\n",
    "        'as': 'linked_ds'\n",
    "    }},\n",
    "    {'$project': {'ds_name': '$linked_ds.name'}}\n",
    "])\n",
    "\n",
    "sorted(list(cursor), key=lambda x: x['ds_name'][0].lower())"
   ]
  },
  {
   "cell_type": "markdown",
   "id": "b976a473",
   "metadata": {},
   "source": [
    "## Configuration sets that are tied to more than one dataset"
   ]
  },
  {
   "cell_type": "code",
   "execution_count": null,
   "id": "63ec025f",
   "metadata": {},
   "outputs": [],
   "source": [
    "client.configuration_sets.count_documents({'relationships.datasets.1': {'$exists': True}})"
   ]
  },
  {
   "cell_type": "code",
   "execution_count": null,
   "id": "9657d94b",
   "metadata": {},
   "outputs": [],
   "source": [
    "cursor = client.configuration_sets.aggregate([\n",
    "    {'$match': {'relationships.datasets.1': {'$exists': True}}},\n",
    "    {'$project': {'relationships.datasets': 1}},\n",
    "    {'$unwind': '$relationships.datasets'},\n",
    "    {'$project': {'ds_id': '$relationships.datasets'}},\n",
    "    {'$lookup': {\n",
    "        'from': 'datasets',\n",
    "        'localField': 'ds_id',\n",
    "        'foreignField': '_id',\n",
    "        'as': 'linked_ds'\n",
    "    }},\n",
    "    {'$project': {'ds_name': '$linked_ds.name'}}\n",
    "])\n",
    "\n",
    "list(cursor)"
   ]
  },
  {
   "cell_type": "markdown",
   "id": "39e3800a",
   "metadata": {},
   "source": [
    "# Total number of atoms"
   ]
  },
  {
   "cell_type": "code",
   "execution_count": null,
   "id": "9e214e79",
   "metadata": {},
   "outputs": [],
   "source": [
    "next(client.configurations.aggregate([\n",
    "    {'$group': {'_id': None, 'sum': {'$sum': '$nsites'}}}\n",
    "]))"
   ]
  },
  {
   "cell_type": "markdown",
   "id": "c1f4e366",
   "metadata": {},
   "source": [
    "# Total number of configuration labels"
   ]
  },
  {
   "cell_type": "code",
   "execution_count": null,
   "id": "aacb659f",
   "metadata": {},
   "outputs": [],
   "source": [
    "cursor = client.configurations.aggregate([\n",
    "#     { \"$match\": { \"_id\": { \"$in\": [1, 2] } } },\n",
    "    {\"$group\": {\"_id\": None, \"labels\": { \"$push\": \"$labels\" }}},\n",
    "    {\n",
    "        \"$project\": {\n",
    "            \"labels\": {\n",
    "                \"$reduce\": {\n",
    "                    \"input\": \"$labels\",\n",
    "                    \"initialValue\": [],\n",
    "                    \"in\": { \"$setUnion\": [\"$$value\", \"$$this\"] }\n",
    "                }\n",
    "            }\n",
    "        }\n",
    "    }\n",
    "])\n",
    "\n",
    "labels = next(cursor)['labels']\n",
    "len(labels)"
   ]
  },
  {
   "cell_type": "markdown",
   "id": "a50d04d0",
   "metadata": {},
   "source": [
    "## Counts for each label"
   ]
  },
  {
   "cell_type": "code",
   "execution_count": null,
   "id": "aa21dff0",
   "metadata": {},
   "outputs": [],
   "source": [
    "cursor = client.configurations.aggregate([\n",
    "    {'$unwind': '$labels'},\n",
    "    {'$group': {'_id': '$labels', 'count': {'$sum': 1}}}\n",
    "])\n",
    "\n",
    "sorted(cursor, key=lambda x: x['count'], reverse=True)"
   ]
  },
  {
   "cell_type": "markdown",
   "id": "b01c1f40",
   "metadata": {},
   "source": [
    "# Property distributions"
   ]
  },
  {
   "cell_type": "code",
   "execution_count": null,
   "id": "19c38f4a",
   "metadata": {},
   "outputs": [],
   "source": [
    "client.properties.find_one({})"
   ]
  },
  {
   "cell_type": "code",
   "execution_count": null,
   "id": "020b3bd7",
   "metadata": {},
   "outputs": [],
   "source": [
    "client.properties.distinct('type')"
   ]
  },
  {
   "cell_type": "code",
   "execution_count": null,
   "id": "a6aa56c8",
   "metadata": {},
   "outputs": [],
   "source": [
    "all_energies = client.get_data('properties', ['energy-forces-stress.energy', 'energy-forces-virial.energy'], ravel=True, verbose=True)"
   ]
  },
  {
   "cell_type": "code",
   "execution_count": null,
   "id": "413edb24",
   "metadata": {},
   "outputs": [],
   "source": [
    "import matplotlib.pyplot as plt\n",
    "\n",
    "fig, ax = plt.subplots()\n",
    "\n",
    "for k,v in all_energies.items():        \n",
    "    _ = ax.hist(v, bins=100, label=k)\n",
    "    \n",
    "ax.legend()\n",
    "ax.set_yscale('log')"
   ]
  },
  {
   "cell_type": "code",
   "execution_count": null,
   "id": "c404da28",
   "metadata": {},
   "outputs": [],
   "source": [
    "all_forces = client.get_data('properties', ['energy-forces-stress.forces', 'energy-forces-virial.forces'], ravel=True, verbose=True)"
   ]
  },
  {
   "cell_type": "code",
   "execution_count": null,
   "id": "a5815c21",
   "metadata": {},
   "outputs": [],
   "source": [
    "import matplotlib.pyplot as plt\n",
    "\n",
    "fig, ax = plt.subplots()\n",
    "\n",
    "for k,v in all_forces.items():\n",
    "    _ = ax.hist(v, bins=100, label=k)\n",
    "    \n",
    "ax.legend()\n",
    "ax.set_yscale('log')"
   ]
  },
  {
   "cell_type": "code",
   "execution_count": null,
   "id": "730be0f2",
   "metadata": {},
   "outputs": [],
   "source": [
    "all_stresses = client.get_data('properties', ['energy-forces-stress.stress', 'energy-forces-virial.virial'], ravel=True, verbose=True)"
   ]
  },
  {
   "cell_type": "code",
   "execution_count": null,
   "id": "5346dcf5",
   "metadata": {},
   "outputs": [],
   "source": [
    "import matplotlib.pyplot as plt\n",
    "\n",
    "fig, ax = plt.subplots()\n",
    "\n",
    "for k,v in all_stresses.items():\n",
    "    _ = ax.hist(v, bins=100, label=k)\n",
    "    \n",
    "ax.legend()\n",
    "ax.set_yscale('log')"
   ]
  },
  {
   "cell_type": "code",
   "execution_count": null,
   "id": "4805809c",
   "metadata": {},
   "outputs": [],
   "source": [
    "client.properties.distinct('energy-forces-stress.stress.source-unit')"
   ]
  },
  {
   "cell_type": "code",
   "execution_count": null,
   "id": "0fad64b5",
   "metadata": {},
   "outputs": [],
   "source": [
    "client.properties.distinct('energy-forces-virial.virial.source-unit')"
   ]
  },
  {
   "cell_type": "code",
   "execution_count": null,
   "id": "267a6b0a",
   "metadata": {},
   "outputs": [],
   "source": [
    "client.datasets.find_one({'name': 'WBe_PRB2019'})"
   ]
  },
  {
   "cell_type": "code",
   "execution_count": null,
   "id": "e9fdaf44",
   "metadata": {},
   "outputs": [],
   "source": [
    "client.properties.find_one({'relationships.datasets': '-6889328512840717042'})"
   ]
  },
  {
   "cell_type": "code",
   "execution_count": null,
   "id": "79375ba8",
   "metadata": {},
   "outputs": [],
   "source": []
  }
 ],
 "metadata": {
  "kernelspec": {
   "display_name": "Python 3 (ipykernel)",
   "language": "python",
   "name": "python3"
  },
  "language_info": {
   "codemirror_mode": {
    "name": "ipython",
    "version": 3
   },
   "file_extension": ".py",
   "mimetype": "text/x-python",
   "name": "python",
   "nbconvert_exporter": "python",
   "pygments_lexer": "ipython3",
   "version": "3.8.11"
  }
 },
 "nbformat": 4,
 "nbformat_minor": 5
}
