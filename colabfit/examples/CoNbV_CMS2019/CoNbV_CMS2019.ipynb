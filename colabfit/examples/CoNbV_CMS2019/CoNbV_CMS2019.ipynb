{
 "cells": [
  {
   "cell_type": "code",
   "execution_count": null,
   "id": "684e98a0",
   "metadata": {},
   "outputs": [],
   "source": [
    "from colabfit.tools.database import MongoDatabase, load_data\n",
    "from colabfit.tools.property_settings import PropertySettings\n",
    "\n",
    "client = MongoDatabase('colabfit_database', nprocs=1)"
   ]
  },
  {
   "cell_type": "code",
   "execution_count": null,
   "id": "46662706",
   "metadata": {},
   "outputs": [],
   "source": [
    "name = 'CoNbV_CMS2019'\n",
    "\n",
    "configurations = load_data(\n",
    "    file_path='/home/jvita/scripts/colabfit/data/gubaev/CoNbV/train.cfg',\n",
    "    file_format='cfg',\n",
    "    name_field=None,\n",
    "    elements=['Co', 'Nb', 'V'],\n",
    "    default_name=name,\n",
    "    verbose=True,\n",
    ")"
   ]
  },
  {
   "cell_type": "code",
   "execution_count": null,
   "id": "948beee7",
   "metadata": {},
   "outputs": [],
   "source": [
    "client.insert_property_definition({\n",
    "    'property-id': 'energy-forces-stress',\n",
    "    'property-title': 'A default property for storing energies, forces, and stress',\n",
    "    'property-description': 'Energies and forces computed using DFT',\n",
    "\n",
    "    'energy': {'type': 'float', 'has-unit': True, 'extent': [],      'required': False, 'description': 'Cohesive energy'},\n",
    "    'forces': {'type': 'float', 'has-unit': True, 'extent': [':',3], 'required': False, 'description': 'Atomic forces'},\n",
    "    'stress': {'type': 'float', 'has-unit': True, 'extent': [':',3], 'required': False, 'description': 'Stress'},\n",
    "})"
   ]
  },
  {
   "cell_type": "code",
   "execution_count": null,
   "id": "95355da9",
   "metadata": {},
   "outputs": [],
   "source": [
    "property_map = {\n",
    "    'energy-forces-stress': {\n",
    "        # ColabFit name: {'field': ASE field name, 'units': str}\n",
    "        'energy': {'field': 'energy', 'units': 'eV'},\n",
    "        'forces': {'field': 'forces', 'units': 'eV/Ang'},\n",
    "        'stress': {'field': 'virial', 'units': 'GPa'},\n",
    "    }\n",
    "}"
   ]
  },
  {
   "cell_type": "code",
   "execution_count": null,
   "id": "ce7b592f",
   "metadata": {},
   "outputs": [],
   "source": [
    "pso = PropertySettings(\n",
    "    method='VASP',\n",
    "    description='energies/forces/stresses',\n",
    "    files=None,\n",
    "    labels=None,\n",
    ")"
   ]
  },
  {
   "cell_type": "code",
   "execution_count": null,
   "id": "0376a16f",
   "metadata": {},
   "outputs": [],
   "source": [
    "ids = list(client.insert_data(\n",
    "    configurations,\n",
    "    property_map=property_map,\n",
    "    property_settings={'energy-forces-stress': pso},\n",
    "    generator=False,\n",
    "    verbose=True\n",
    "))\n",
    "\n",
    "all_co_ids, all_pr_ids = list(zip(*ids))"
   ]
  },
  {
   "cell_type": "code",
   "execution_count": null,
   "id": "4e23bcd9",
   "metadata": {},
   "outputs": [],
   "source": [
    "len(set(all_co_ids))"
   ]
  },
  {
   "cell_type": "code",
   "execution_count": null,
   "id": "77d5c75b",
   "metadata": {},
   "outputs": [],
   "source": [
    "len(set(all_pr_ids))"
   ]
  },
  {
   "cell_type": "code",
   "execution_count": null,
   "id": "a46ef09c",
   "metadata": {},
   "outputs": [],
   "source": [
    "cs_regexes = {\n",
    "    '.*':\n",
    "        'Configurations generated using active learning by iteratively '\\\n",
    "        'fitting a MTP model, identifying configurations that required the '\\\n",
    "        'MTP to extrapolate, re-computing the energies/forces/structures of '\\\n",
    "        'those configurations with DFT, then retraining the MTP model.',\n",
    "}\n",
    "\n",
    "cs_ids = []\n",
    "\n",
    "for i, (regex, desc) in enumerate(cs_regexes.items()):\n",
    "    co_ids = client.get_data(\n",
    "        'configurations',\n",
    "        fields='_id',\n",
    "        query={'_id': {'$in': all_co_ids}, 'names': {'$regex': regex}},\n",
    "        ravel=True\n",
    "    ).tolist()\n",
    "\n",
    "    print(f'Configuration set {i}', f'({regex}):'.rjust(22), f'{len(co_ids)}'.rjust(7))\n",
    "\n",
    "    cs_id = client.insert_configuration_set(co_ids, description=desc, verbose=True)\n",
    "\n",
    "    cs_ids.append(cs_id)"
   ]
  },
  {
   "cell_type": "code",
   "execution_count": null,
   "id": "2245fc3c",
   "metadata": {},
   "outputs": [],
   "source": [
    "ds_id = client.insert_dataset(\n",
    "    cs_ids=cs_ids,\n",
    "    pr_ids=all_pr_ids,\n",
    "    name='CoNbV_CMS2019',\n",
    "    authors=[\n",
    "        'K. Gubaev', 'E. V. Podryabinkin', 'G. L. W. Hart', 'A. V. Shapeev'\n",
    "    ],\n",
    "    links=[\n",
    "        'https://www.sciencedirect.com/science/article/pii/S0927025618306372?via%3Dihub',\n",
    "        'https://gitlab.com/kgubaev/accelerating-high-throughput-searches-for-new-alloys-with-active-learning-data',\n",
    "    ],\n",
    "    description =  'This dataset was generated using the following active '\\\n",
    "    'learning scheme: 1) candidate structures relaxed by a partially-trained '\\\n",
    "    'MTP model, 2) structures for which the MTP had to perform extrapolation '\\\n",
    "    'are passed to DFT to be re-computed, 3) the MTP is retrained included '\\\n",
    "    'the structures that were re-computed with DFT, 4) steps 1-3 are repeated '\\\n",
    "    'until the MTP does not extrapolate on any of the original candidate '\\\n",
    "    'structures. The original candidate structures for this dataset included '\\\n",
    "    'about 27,000 configurations that were bcc-like and close-packed (fcc, '\\\n",
    "    'hcp, etc.) with 8 or less atoms in the unit cell and different '\\\n",
    "    'concentrations of Co, Nb, and V.',\n",
    "    resync=True,\n",
    "    verbose=True,\n",
    ")"
   ]
  },
  {
   "cell_type": "code",
   "execution_count": null,
   "id": "ed971ab8",
   "metadata": {},
   "outputs": [],
   "source": [
    "client.apply_labels(\n",
    "    dataset_id=ds_id,\n",
    "    collection_name='configurations',\n",
    "    query={'_id': {'$in': all_co_ids}},\n",
    "    labels='active_learning',\n",
    "    verbose=True\n",
    ")"
   ]
  },
  {
   "cell_type": "code",
   "execution_count": null,
   "id": "3e1bd8ea",
   "metadata": {},
   "outputs": [],
   "source": [
    "dataset = client.get_dataset(ds_id, resync=True, verbose=True)['dataset']\n",
    "\n",
    "for k,v in dataset.aggregated_info.items():\n",
    "    print(k,v)"
   ]
  },
  {
   "cell_type": "code",
   "execution_count": null,
   "id": "c72faac1",
   "metadata": {},
   "outputs": [],
   "source": [
    "dataset.aggregated_info['property_fields']"
   ]
  },
  {
   "cell_type": "code",
   "execution_count": null,
   "id": "daa9e726",
   "metadata": {},
   "outputs": [],
   "source": [
    "client.plot_histograms(dataset.aggregated_info['property_fields'], ids=dataset.property_ids)"
   ]
  },
  {
   "cell_type": "code",
   "execution_count": null,
   "id": "962250d3",
   "metadata": {},
   "outputs": [],
   "source": [
    "client.dataset_to_markdown(\n",
    "    ds_id=ds_id,\n",
    "    base_folder='/home/jvita/scripts/colabfit-tools/colabfit/examples/'+dataset.name,\n",
    "    html_file_name='README.md',\n",
    "    data_format='mongo',\n",
    "    data_file_name=None,\n",
    ")"
   ]
  },
  {
   "cell_type": "code",
   "execution_count": null,
   "id": "4520239c",
   "metadata": {},
   "outputs": [],
   "source": [
    "# Convert to per-atom energies\n",
    "client.apply_transformation(\n",
    "    dataset_id=ds_id,\n",
    "    property_ids=all_pr_ids,\n",
    "    update_map={\n",
    "        'energy-forces-stress.energy':\n",
    "        lambda f, doc: f/doc['configuration']['nsites']\n",
    "    },\n",
    "    configuration_ids=all_co_ids,\n",
    ")"
   ]
  },
  {
   "cell_type": "code",
   "execution_count": null,
   "id": "323bd521",
   "metadata": {},
   "outputs": [],
   "source": [
    "client.plot_histograms(dataset.aggregated_info['property_fields'], ids=dataset.property_ids)"
   ]
  },
  {
   "cell_type": "code",
   "execution_count": null,
   "id": "9386c96b",
   "metadata": {},
   "outputs": [],
   "source": []
  }
 ],
 "metadata": {
  "kernelspec": {
   "display_name": "Python 3 (ipykernel)",
   "language": "python",
   "name": "python3"
  },
  "language_info": {
   "codemirror_mode": {
    "name": "ipython",
    "version": 3
   },
   "file_extension": ".py",
   "mimetype": "text/x-python",
   "name": "python",
   "nbconvert_exporter": "python",
   "pygments_lexer": "ipython3",
   "version": "3.8.11"
  }
 },
 "nbformat": 4,
 "nbformat_minor": 5
}
